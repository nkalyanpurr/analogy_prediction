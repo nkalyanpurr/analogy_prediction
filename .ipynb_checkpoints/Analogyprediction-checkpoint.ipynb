{
 "cells": [
  {
   "cell_type": "code",
   "execution_count": 1,
   "metadata": {},
   "outputs": [
    {
     "name": "stdout",
     "output_type": "stream",
     "text": [
      "// Copyright 2013 Google Inc. All Rights Reserved.\n",
      ": capital-common-countries\n",
      "Athens Greece Baghdad Iraq\n",
      "Athens Greece Bangkok Thailand\n",
      "Athens Greece Beijing China\n",
      "Athens Greece Berlin Germany\n",
      "Athens Greece Bern Switzerland\n",
      "Athens Greece Cairo Egypt\n",
      "Athens Greece Canberra Australia\n",
      "Athens Greece Hanoi Vietnam\n",
      "Athens Greece Havana Cuba\n",
      "Athens Greece Helsinki Finland\n",
      "Athens Greece Islamabad Pakistan\n",
      "Athens Greece Kabul Afghanistan\t\n",
      "Athens Greece London England\n",
      "Athens Greece Madrid Spain\t\n"
     ]
    }
   ],
   "source": [
    "filename = open('dataset.txt','r')  \n",
    "print(filename.read()[:490])"
   ]
  },
  {
   "cell_type": "code",
   "execution_count": null,
   "metadata": {},
   "outputs": [],
   "source": [
    "import re\n",
    "import gensim\n",
    "\n",
    "from gensim.models.deprecated.keyedvectors import KeyedVectors\n",
    "from gensim.scripts.glove2word2vec import glove2word2vec\n",
    "\n",
    "w2v_model = gensim.models.KeyedVectors.load_word2vec_format('./GoogleNews-vectors-negative300.bin', binary=True,  limit=500000)\n",
    "\n",
    "glove_input_file = ('glove.840B.300d.txt')\n",
    "word2vec_output_file ='glove.840B.300d.txt.word2vec'\n",
    "glove2word2vec(glove_input_file, word2vec_output_file)\n",
    "\n",
    "filename ='glove.840B.300d.txt.word2vec'\n",
    "modelGlove = KeyedVectors.load_word2vec_format(filename, binary=False)\n",
    "\n",
    "file = open(\"dataset.txt\")\n",
    "file_text = file.read()\n",
    "\n",
    "\n",
    "pattern = [r\"(?<=: capital-world)((\\w|\\s))(?=:)\", r\"(?<=: currency)((\\w|\\s))(?=:)\",\n",
    "            r\"(?<=: city-in-state)((\\w|\\s)*)(?=:)\",\n",
    "            r\"(?<=: family)((\\w|\\s))(?=:)\", r\"(?<=: gram1-adjective-to-adverb)((\\w|\\s))(?=:)\",\n",
    "            r\"(?<=: gram2-opposite)((\\w|\\s)*)(?=:)\",\n",
    "            r\"(?<=: gram3-comparative)((\\w|\\s))(?=:)\", r\"(?<=: gram6-nationality-adjective)((\\w|\\s))(?=:)\"]\n",
    "\n",
    "lines = ''\n",
    "for regex in pattern:\n",
    "    match = (re.finditer(regex, file_text))\n",
    "    for i in match:\n",
    "        lines += i.group()\n",
    "\n",
    "lines = lines.split('\\n')\n",
    "word2vecAccuracyCount = 0\n",
    "gloveAccuracyCount = 0\n",
    "totalCount = 0"
   ]
  },
  {
   "cell_type": "code",
   "execution_count": 4,
   "metadata": {},
   "outputs": [
    {
     "name": "stdout",
     "output_type": "stream",
     "text": [
      "word2Vec Count :  2125\n",
      "Glove Count :  2008\n",
      "word2Vec Accuracy =  64.76683937823834\n",
      "Glove Accuracy =  61.20085339835416\n"
     ]
    }
   ],
   "source": [
    "for line in lines:\n",
    "    if line != \"\":\n",
    "        wordlist = line.split(\" \")\n",
    "        totalCount += 1\n",
    "        resultWord2Vec = w2v_model.most_similar(positive=[wordlist[2], wordlist[1]], negative=[wordlist[0]], topn=1)\n",
    "        w2vWord =  resultWord2Vec[0][0]\n",
    "        if w2vWord.lower() == wordlist[3].lower():\n",
    "            word2vecAccuracyCount += 1\n",
    "        resultGlove = modelGlove.most_similar(positive=[wordlist[2], wordlist[1]], negative=[wordlist[0]], topn=1)\n",
    "        gloveWord = resultGlove[0][0]\n",
    "        if gloveWord.lower() == wordlist[3].lower():\n",
    "            gloveAccuracyCount += 1\n",
    "            \n",
    "\n",
    "word2VecAccuracy = (word2vecAccuracyCount*100)/totalCount\n",
    "gloveAccuracy = (gloveAccuracyCount*100)/totalCount\n",
    "\n",
    "print(\"word2Vec Count : \", word2vecAccuracyCount)\n",
    "print(\"Glove Count : \", gloveAccuracyCount)\n",
    "print(\"word2Vec Accuracy = \", word2VecAccuracy)\n",
    "print(\"Glove Accuracy = \", gloveAccuracy)"
   ]
  },
  {
   "cell_type": "code",
   "execution_count": 5,
   "metadata": {},
   "outputs": [
    {
     "name": "stdout",
     "output_type": "stream",
     "text": [
      "Cosine similarity for increase: \n",
      " [('decrease', 0.8370318412780762), ('increases', 0.7709376215934753), ('increased', 0.7578041553497314), ('reduction', 0.6908220648765564), ('increasing', 0.6871615052223206), ('decreases', 0.6816173195838928), ('rise', 0.6352646946907043), ('decreasing', 0.621862530708313), ('decline', 0.612864077091217), ('uptick', 0.5923734903335571)]\n",
      "\n",
      "\n",
      "Cosine similarity for enter: \n",
      " [('entering', 0.7399863004684448), ('entered', 0.6956064105033875), ('reenter', 0.648739218711853), ('enters', 0.5622496604919434), ('entry', 0.551796019077301), ('Entering', 0.4845679998397827), ('participate', 0.48203885555267334), ('leave', 0.4764121472835541), ('join', 0.4726879894733429), ('register', 0.4570498466491699)]\n",
      "\n",
      "\n",
      "Cosine similarity for up: \n",
      " [('down', 0.6396992802619934), ('out', 0.5464872121810913), ('off', 0.5370627641677856), ('ups', 0.4826122522354126), ('in.', 0.4756892919540405), ('around', 0.4468981623649597), ('aside', 0.440209299325943), ('away', 0.43584108352661133), ('back', 0.41145747900009155), ('Up', 0.40310245752334595)]\n",
      "\n",
      "\n",
      "Cosine similarity for win: \n",
      " [('victory', 0.8021053075790405), ('wins', 0.7579837441444397), ('clinch', 0.7245594263076782), ('winning', 0.7038971185684204), ('victories', 0.6999824047088623), ('triumph', 0.6814376711845398), ('won', 0.6636423468589783), ('defeat', 0.6242349147796631), ('beat', 0.6023318767547607), ('victorious', 0.5706925392150879)]\n",
      "\n",
      "\n",
      "Cosine similarity for agree: \n",
      " [('disagree', 0.7711759805679321), ('concur', 0.7131549119949341), ('agrees', 0.5929450988769531), ('disagreed', 0.5711544156074524), ('Agree', 0.5635050535202026), ('disagreeing', 0.5525434017181396), ('respectfully_disagree', 0.5464814901351929), ('agreed', 0.5445384383201599), ('insist', 0.5273953080177307), ('accept', 0.5188776254653931)]\n"
     ]
    }
   ],
   "source": [
    "print(\"Cosine similarity for increase: \\n\", w2v_model.similar_by_word(word = 'increase', topn = 10))\n",
    "print(\"\\n\\nCosine similarity for enter: \\n\", w2v_model.similar_by_word(word = 'enter', topn = 10))\n",
    "print(\"\\n\\nCosine similarity for up: \\n\", w2v_model.similar_by_word(word = 'up', topn = 10))\n",
    "print(\"\\n\\nCosine similarity for win: \\n\", w2v_model.similar_by_word(word = 'win', topn = 10))\n",
    "print(\"\\n\\nCosine similarity for agree: \\n\", w2v_model.similar_by_word(word = 'agree', topn = 10))"
   ]
  },
  {
   "cell_type": "code",
   "execution_count": 8,
   "metadata": {},
   "outputs": [
    {
     "name": "stdout",
     "output_type": "stream",
     "text": [
      "['kitten', 'cat', 'pup', 'dog']\n",
      "[('dog', 0.7028900980949402)]\n",
      "[('dog', 0.7520233392715454)]\n",
      "['moon', 'night', 'sun', 'day']\n",
      "[('afternoon', 0.608284056186676)]\n",
      "[('evening', 0.6930018663406372)]\n",
      "['feather', 'bird', 'fur', 'dog', '']\n",
      "[('animals', 0.5864224433898926)]\n",
      "[('birds', 0.5897350907325745)]\n",
      "['hot', 'oven', 'cold', 'refrigerator']\n",
      "[('refrigerator', 0.5350120663642883)]\n",
      "[('freezer', 0.6441140174865723)]\n",
      "['sing', 'sang', 'sleep', 'slept']\n",
      "[('slept', 0.6603193283081055)]\n",
      "[('sleeping', 0.7311890125274658)]\n",
      "['king', 'man', 'queen', 'woman']\n",
      "[('woman', 0.7609435319900513)]\n",
      "[('woman', 0.7807329893112183)]\n",
      "word2Vec Count :  4\n",
      "Glove Count :  2\n",
      "word2Vec Accuracy =  66.66666666666667\n",
      "Glove Accuracy =  33.333333333333336\n"
     ]
    }
   ],
   "source": [
    "test = ['kitten cat pup dog',    \n",
    "        'moon night sun day',\n",
    "        'feather bird fur dog ',\n",
    "        'hot oven cold refrigerator',\n",
    "        'sing sang sleep slept', \n",
    "        'king man queen woman']\n",
    "\n",
    "w2vec_Count = 0\n",
    "glove_Count = 0\n",
    "Count = 0\n",
    "\n",
    "for line in test:\n",
    "    if line != \"\":\n",
    "        wordlist = line.split(\" \")\n",
    "        Count += 1\n",
    "        print(wordlist)\n",
    "        result_Word2Vec = w2v_model.most_similar(positive=[wordlist[2], wordlist[1]], negative=[wordlist[0]], topn=1)\n",
    "        print(result_Word2Vec)\n",
    "        w2vWord =  result_Word2Vec[0][0]\n",
    "        if w2vWord.lower() == wordlist[3].lower():\n",
    "            w2vec_Count += 1\n",
    "        result_Glove = modelGlove.most_similar(positive=[wordlist[2], wordlist[1]], negative=[wordlist[0]], topn=1)\n",
    "        print(result_Glove)\n",
    "        gloveWord = result_Glove[0][0]\n",
    "        if gloveWord.lower() == wordlist[3].lower():\n",
    "            glove_Count += 1\n",
    "            \n",
    "\n",
    "w2VecAcc = (w2vec_Count*100)/Count\n",
    "gloveAcc = (glove_Count*100)/Count\n",
    "\n",
    "print(\"word2Vec Count : \", w2vec_Count)\n",
    "\n",
    "print(\"Glove Count : \", glove_Count)\n",
    "\n",
    "print(\"word2Vec Accuracy = \", w2VecAcc)\n",
    "\n",
    "print(\"Glove Accuracy = \", gloveAcc)"
   ]
  }
 ],
 "metadata": {
  "kernelspec": {
   "display_name": "Python 3",
   "language": "python",
   "name": "python3"
  },
  "language_info": {
   "codemirror_mode": {
    "name": "ipython",
    "version": 3
   },
   "file_extension": ".py",
   "mimetype": "text/x-python",
   "name": "python",
   "nbconvert_exporter": "python",
   "pygments_lexer": "ipython3",
   "version": "3.7.4"
  }
 },
 "nbformat": 4,
 "nbformat_minor": 2
}
